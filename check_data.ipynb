{
  "nbformat": 4,
  "nbformat_minor": 0,
  "metadata": {
    "colab": {
      "provenance": [],
      "authorship_tag": "ABX9TyMIX7hZso/elMy20KRGFVk9",
      "include_colab_link": true
    },
    "kernelspec": {
      "name": "python3",
      "display_name": "Python 3"
    },
    "language_info": {
      "name": "python"
    }
  },
  "cells": [
    {
      "cell_type": "markdown",
      "metadata": {
        "id": "view-in-github",
        "colab_type": "text"
      },
      "source": [
        "<a href=\"https://colab.research.google.com/github/ShinyaKatoh/Trial_Polarity/blob/main/check_data.ipynb\" target=\"_parent\"><img src=\"https://colab.research.google.com/assets/colab-badge.svg\" alt=\"Open In Colab\"/></a>"
      ]
    },
    {
      "cell_type": "code",
      "execution_count": null,
      "metadata": {
        "id": "ROiV57IWkgWl"
      },
      "outputs": [],
      "source": [
        "!git clone https://github.com/ShinyaKatoh/Trial_Polarity"
      ]
    },
    {
      "cell_type": "code",
      "source": [
        "import torch\n",
        "import torch.nn as nn\n",
        "import matplotlib.pyplot as plt"
      ],
      "metadata": {
        "id": "eqNywRIjknvs"
      },
      "execution_count": null,
      "outputs": []
    },
    {
      "cell_type": "code",
      "source": [
        "waves = torch.load('/content/Trial_Polarity/data/test_data.pt')\n",
        "labels_CLA = torch.load('/content/Trial_Polarity/data/test_label_for_CLA.pt')\n",
        "labels_SEG = torch.load('/content/Trial_Polarity/data/test_label_for_SEG.pt')"
      ],
      "metadata": {
        "id": "KscQSjPrkteu"
      },
      "execution_count": null,
      "outputs": []
    },
    {
      "cell_type": "code",
      "source": [
        "c = 0\n",
        "for i in range(10):\n",
        "\n",
        "    wave = waves[i:i+1]\n",
        "    label_CLA = labels_CLA[i:i+1]\n",
        "    label_SEG = labels_SEG[i:i+1]\n",
        "\n",
        "    if torch.max(label_CLA,1)[1] == 0:\n",
        "        h_pola = 'U'\n",
        "    elif torch.max(label_CLA,1)[1] == 1:\n",
        "        h_pola = 'D'\n",
        "    elif torch.max(label_CLA,1)[1] == 2:\n",
        "        h_pola = 'N'\n",
        "\n",
        "    fig = plt.figure(figsize=(10,4))\n",
        "    # plt.subplot(2,1,1)\n",
        "    plt.plot(wave[0][0,:].numpy(), c='black')\n",
        "    plt.title(f'Label : {h_pola}')\n",
        "\n",
        "    if h_pola == 'U' or h_pola == 'D':\n",
        "        pidx = torch.max(label_SEG[0,:],1)[1]\n",
        "        print(pidx)\n",
        "        plt.axvline(x=pidx[0], c='red')\n",
        "\n",
        "    plt.show()\n",
        "    plt.close()"
      ],
      "metadata": {
        "id": "2k4EWLitk3vW"
      },
      "execution_count": null,
      "outputs": []
    },
    {
      "cell_type": "code",
      "source": [],
      "metadata": {
        "id": "zfgSW6fdlMG5"
      },
      "execution_count": null,
      "outputs": []
    }
  ]
}
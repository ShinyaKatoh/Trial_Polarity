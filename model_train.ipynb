{
  "nbformat": 4,
  "nbformat_minor": 0,
  "metadata": {
    "colab": {
      "provenance": [],
      "authorship_tag": "ABX9TyMNQ4ami3RxBlm1/jmgDWzt",
      "include_colab_link": true
    },
    "kernelspec": {
      "name": "python3",
      "display_name": "Python 3"
    },
    "language_info": {
      "name": "python"
    }
  },
  "cells": [
    {
      "cell_type": "markdown",
      "metadata": {
        "id": "view-in-github",
        "colab_type": "text"
      },
      "source": [
        "<a href=\"https://colab.research.google.com/github/ShinyaKatoh/Trial_Polarity/blob/main/model_train.ipynb\" target=\"_parent\"><img src=\"https://colab.research.google.com/assets/colab-badge.svg\" alt=\"Open In Colab\"/></a>"
      ]
    },
    {
      "cell_type": "code",
      "execution_count": 1,
      "metadata": {
        "colab": {
          "base_uri": "https://localhost:8080/"
        },
        "id": "nTNoMQHedRZi",
        "outputId": "2cfbbd75-b957-455c-91df-17e995d94c0b"
      },
      "outputs": [
        {
          "output_type": "stream",
          "name": "stdout",
          "text": [
            "Cloning into 'Trial_Polarity'...\n",
            "remote: Enumerating objects: 16, done.\u001b[K\n",
            "remote: Total 16 (delta 0), reused 0 (delta 0), pack-reused 16 (from 1)\u001b[K\n",
            "Receiving objects: 100% (16/16), 46.01 MiB | 15.35 MiB/s, done.\n",
            "Resolving deltas: 100% (5/5), done.\n",
            "Requirement already satisfied: einops in /usr/local/lib/python3.12/dist-packages (0.8.1)\n",
            "Collecting torchinfo\n",
            "  Downloading torchinfo-1.8.0-py3-none-any.whl.metadata (21 kB)\n",
            "Downloading torchinfo-1.8.0-py3-none-any.whl (23 kB)\n",
            "Installing collected packages: torchinfo\n",
            "Successfully installed torchinfo-1.8.0\n"
          ]
        }
      ],
      "source": [
        "!git clone https://github.com/ShinyaKatoh/Trial_Polarity\n",
        "!pip install einops\n",
        "!pip install torchinfo"
      ]
    },
    {
      "cell_type": "code",
      "source": [
        "# Google driveにマウント\n",
        "from google.colab import drive\n",
        "drive.mount('/content/drive')"
      ],
      "metadata": {
        "colab": {
          "base_uri": "https://localhost:8080/"
        },
        "id": "i1DgXObvdf4O",
        "outputId": "1a9c464d-90da-45d2-daba-1b57891dc00d"
      },
      "execution_count": 2,
      "outputs": [
        {
          "output_type": "stream",
          "name": "stdout",
          "text": [
            "Mounted at /content/drive\n"
          ]
        }
      ]
    },
    {
      "cell_type": "code",
      "source": [
        "import sys\n",
        "sys.path.append('/content/Trial_Polarity')"
      ],
      "metadata": {
        "id": "Kqf63PGSd289"
      },
      "execution_count": 4,
      "outputs": []
    },
    {
      "cell_type": "code",
      "source": [
        "import torch\n",
        "import torch.nn as nn\n",
        "from torchinfo import summary\n",
        "from torch.utils.data import DataLoader, Dataset\n",
        "\n",
        "import torch.nn.functional as F\n",
        "import torch.nn.init as init\n",
        "\n",
        "import os\n",
        "import glob\n",
        "import numpy as np\n",
        "from tqdm import tqdm\n",
        "\n",
        "import matplotlib.pyplot as plt\n",
        "\n",
        "import util"
      ],
      "metadata": {
        "id": "S1VyDAMkd_IR"
      },
      "execution_count": 5,
      "outputs": []
    },
    {
      "cell_type": "code",
      "source": [
        "# モデル構造の定義\n",
        "#\n",
        "# model1 : Neural Network\n",
        "#\n",
        "# model2 : Convolutional Neural Network\n",
        "#\n",
        "# model3 : Convolutional Neural Network + Regularization\n",
        "#\n",
        "\n",
        "import model1\n",
        "\n",
        "model = model1.Model()\n",
        "\n",
        "# モデル保存のディレクトリの指定\n",
        "save_dir = '/content/drive/MyDrive/model1'\n",
        "\n",
        "if not os.path.exists(save_dir):\n",
        "    os.makedirs(save_dir)"
      ],
      "metadata": {
        "id": "QzJ_7N5FeHmM"
      },
      "execution_count": 6,
      "outputs": []
    },
    {
      "cell_type": "code",
      "source": [
        "#-------------------------------------------------------------------------------------------------------------------------------\n",
        "# パラメータ設定\n",
        "#-------------------------------------------------------------------------------------------------------------------------------\n",
        "\n",
        "# バッチサイズ\n",
        "batch_size = 128\n",
        "\n",
        "#エポック数\n",
        "num_epochs = 100\n",
        "\n",
        "#-------------------------------------------------------------------------------------------------------------------------------\n",
        "# デバイスの割り当て\n",
        "#-------------------------------------------------------------------------------------------------------------------------------\n",
        "\n",
        "device = torch.device((\"cuda\" if torch.cuda.is_available() else \"cpu\"))\n",
        "print(device)\n",
        "\n",
        "#-------------------------------------------------------------------------------------------------------------------------------\n",
        "# データの読み込み\n",
        "#-------------------------------------------------------------------------------------------------------------------------------\n",
        "\n",
        "train_dataset = util.MyDataset('/content/Trial_Polarity/data/train_data.pt', '/content/Trial_Polarity/data/train_label_for_CLA.pt')\n",
        "train_loader = util.DataLoader(train_dataset, batch_size=batch_size, shuffle=True, num_workers=4, pin_memory=True)\n",
        "\n",
        "valid_dataset = util.MyDataset('/content/Trial_Polarity/data/valid_data.pt', '/content/Trial_Polarity/data/valid_label_for_CLA.pt')\n",
        "valid_loader = util.DataLoader(valid_dataset, batch_size=batch_size, shuffle=True, num_workers=4, pin_memory=True)\n",
        "\n",
        "#-------------------------------------------------------------------------------------------------------------------------------\n",
        "# 学習の実行\n",
        "#-------------------------------------------------------------------------------------------------------------------------------\n",
        "\n",
        "# モデル構造の転送\n",
        "model.to(device)\n",
        "\n",
        "# パラメータの初期化\n",
        "model.apply(util.init_weights)\n",
        "\n",
        "# モデル構造の表示\n",
        "print(summary(model, input_size=(1,1,128)))\n",
        "\n",
        "# 最適化アリゴリズムの設定\n",
        "optimizer = torch.optim.Adam(model.parameters())\n",
        "\n",
        "# 学習の実行\n",
        "history = np.zeros((0,3))\n",
        "history = util.fit(model, optimizer, num_epochs, train_loader, valid_loader, device, history, save_dir)\n",
        "\n",
        "# 学習過程の保存\n",
        "np.save(save_dir+'/history', history)"
      ],
      "metadata": {
        "colab": {
          "base_uri": "https://localhost:8080/"
        },
        "id": "FPQIUI0SeTPD",
        "outputId": "bb3b1f74-8bf0-4463-cd0e-fc42b24ca380"
      },
      "execution_count": null,
      "outputs": [
        {
          "output_type": "stream",
          "name": "stdout",
          "text": [
            "cpu\n"
          ]
        },
        {
          "output_type": "stream",
          "name": "stderr",
          "text": [
            "/usr/local/lib/python3.12/dist-packages/torch/utils/data/dataloader.py:627: UserWarning: This DataLoader will create 4 worker processes in total. Our suggested max number of worker in current system is 2, which is smaller than what this DataLoader is going to create. Please be aware that excessive worker creation might get DataLoader running slow or even freeze, lower the worker number to avoid potential slowness/freeze if necessary.\n",
            "  warnings.warn(\n"
          ]
        },
        {
          "output_type": "stream",
          "name": "stdout",
          "text": [
            "==========================================================================================\n",
            "Layer (type:depth-idx)                   Output Shape              Param #\n",
            "==========================================================================================\n",
            "Model                                    [1, 3]                    --\n",
            "├─Linear: 1-1                            [1, 128]                  16,512\n",
            "├─ReLU: 1-2                              [1, 128]                  --\n",
            "├─Linear: 1-3                            [1, 128]                  16,512\n",
            "├─ReLU: 1-4                              [1, 128]                  --\n",
            "├─Linear: 1-5                            [1, 128]                  16,512\n",
            "├─ReLU: 1-6                              [1, 128]                  --\n",
            "├─Linear: 1-7                            [1, 64]                   8,256\n",
            "├─ReLU: 1-8                              [1, 64]                   --\n",
            "├─Linear: 1-9                            [1, 32]                   2,080\n",
            "├─ReLU: 1-10                             [1, 32]                   --\n",
            "├─Linear: 1-11                           [1, 3]                    99\n",
            "├─Softmax: 1-12                          [1, 3]                    --\n",
            "==========================================================================================\n",
            "Total params: 59,971\n",
            "Trainable params: 59,971\n",
            "Non-trainable params: 0\n",
            "Total mult-adds (Units.MEGABYTES): 0.06\n",
            "==========================================================================================\n",
            "Input size (MB): 0.00\n",
            "Forward/backward pass size (MB): 0.00\n",
            "Params size (MB): 0.24\n",
            "Estimated Total Size (MB): 0.24\n",
            "==========================================================================================\n"
          ]
        },
        {
          "output_type": "stream",
          "name": "stderr",
          "text": [
            "\rEpoch Train 1/100:   0%|          | 0/793 [00:00<?, ?it/s]/usr/local/lib/python3.12/dist-packages/torch/utils/data/dataloader.py:627: UserWarning: This DataLoader will create 4 worker processes in total. Our suggested max number of worker in current system is 2, which is smaller than what this DataLoader is going to create. Please be aware that excessive worker creation might get DataLoader running slow or even freeze, lower the worker number to avoid potential slowness/freeze if necessary.\n",
            "  warnings.warn(\n",
            "/usr/local/lib/python3.12/dist-packages/torch/utils/data/dataloader.py:666: UserWarning: 'pin_memory' argument is set as true but no accelerator is found, then device pinned memory won't be used.\n",
            "  warnings.warn(warn_msg)\n",
            "Epoch Train 1/100: 100%|██████████| 793/793 [00:07<00:00, 99.25it/s]\n",
            "Epoch Valid 1/100: 100%|██████████| 100/100 [00:01<00:00, 83.37it/s]\n"
          ]
        },
        {
          "output_type": "stream",
          "name": "stdout",
          "text": [
            "Epoch [1/100], loss: 28.53585 acc: 0.62355 val_loss: 25.08379 val_acc: 0.67589\n"
          ]
        },
        {
          "output_type": "stream",
          "name": "stderr",
          "text": [
            "Epoch Train 2/100: 100%|██████████| 793/793 [00:08<00:00, 98.62it/s] \n",
            "Epoch Valid 2/100: 100%|██████████| 100/100 [00:00<00:00, 143.68it/s]\n"
          ]
        },
        {
          "output_type": "stream",
          "name": "stdout",
          "text": [
            "Epoch [2/100], loss: 23.36857 acc: 0.70501 val_loss: 22.04856 val_acc: 0.74030\n"
          ]
        },
        {
          "output_type": "stream",
          "name": "stderr",
          "text": [
            "Epoch Train 3/100: 100%|██████████| 793/793 [00:08<00:00, 92.52it/s] \n",
            "Epoch Valid 3/100: 100%|██████████| 100/100 [00:00<00:00, 155.14it/s]\n"
          ]
        },
        {
          "output_type": "stream",
          "name": "stdout",
          "text": [
            "Epoch [3/100], loss: 19.33633 acc: 0.78523 val_loss: 18.50635 val_acc: 0.80479\n"
          ]
        },
        {
          "output_type": "stream",
          "name": "stderr",
          "text": [
            "Epoch Train 4/100: 100%|██████████| 793/793 [00:07<00:00, 104.31it/s]\n",
            "Epoch Valid 4/100: 100%|██████████| 100/100 [00:00<00:00, 100.08it/s]\n"
          ]
        },
        {
          "output_type": "stream",
          "name": "stdout",
          "text": [
            "Epoch [4/100], loss: 16.41739 acc: 0.82697 val_loss: 17.64846 val_acc: 0.81993\n"
          ]
        },
        {
          "output_type": "stream",
          "name": "stderr",
          "text": [
            "Epoch Train 5/100: 100%|██████████| 793/793 [00:08<00:00, 95.02it/s] \n",
            "Epoch Valid 5/100: 100%|██████████| 100/100 [00:00<00:00, 150.43it/s]\n"
          ]
        },
        {
          "output_type": "stream",
          "name": "stdout",
          "text": [
            "Epoch [5/100], loss: 14.61528 acc: 0.84913 val_loss: 16.26930 val_acc: 0.83467\n"
          ]
        },
        {
          "output_type": "stream",
          "name": "stderr",
          "text": [
            "Epoch Train 6/100: 100%|██████████| 793/793 [00:09<00:00, 86.43it/s] \n",
            "Epoch Valid 6/100: 100%|██████████| 100/100 [00:00<00:00, 160.05it/s]\n"
          ]
        },
        {
          "output_type": "stream",
          "name": "stdout",
          "text": [
            "Epoch [6/100], loss: 13.37855 acc: 0.86512 val_loss: 15.58292 val_acc: 0.84461\n"
          ]
        },
        {
          "output_type": "stream",
          "name": "stderr",
          "text": [
            "Epoch Train 7/100: 100%|██████████| 793/793 [00:08<00:00, 96.42it/s]\n",
            "Epoch Valid 7/100: 100%|██████████| 100/100 [00:01<00:00, 97.45it/s]\n"
          ]
        },
        {
          "output_type": "stream",
          "name": "stdout",
          "text": [
            "Epoch [7/100], loss: 12.30298 acc: 0.87786 val_loss: 14.89559 val_acc: 0.85762\n"
          ]
        },
        {
          "output_type": "stream",
          "name": "stderr",
          "text": [
            "Epoch Train 8/100: 100%|██████████| 793/793 [00:08<00:00, 98.00it/s] \n",
            "Epoch Valid 8/100: 100%|██████████| 100/100 [00:00<00:00, 167.17it/s]\n"
          ]
        },
        {
          "output_type": "stream",
          "name": "stdout",
          "text": [
            "Epoch [8/100], loss: 11.30307 acc: 0.88985 val_loss: 14.91629 val_acc: 0.85754\n"
          ]
        },
        {
          "output_type": "stream",
          "name": "stderr",
          "text": [
            "Epoch Train 9/100: 100%|██████████| 793/793 [00:09<00:00, 87.16it/s] \n",
            "Epoch Valid 9/100: 100%|██████████| 100/100 [00:00<00:00, 159.30it/s]\n"
          ]
        },
        {
          "output_type": "stream",
          "name": "stdout",
          "text": [
            "Epoch [9/100], loss: 10.52497 acc: 0.89854 val_loss: 14.80032 val_acc: 0.86377\n"
          ]
        },
        {
          "output_type": "stream",
          "name": "stderr",
          "text": [
            "Epoch Train 10/100: 100%|██████████| 793/793 [00:07<00:00, 105.73it/s]\n",
            "Epoch Valid 10/100: 100%|██████████| 100/100 [00:00<00:00, 161.90it/s]\n"
          ]
        },
        {
          "output_type": "stream",
          "name": "stdout",
          "text": [
            "Epoch [10/100], loss: 9.82553 acc: 0.90663 val_loss: 14.86829 val_acc: 0.86455\n"
          ]
        },
        {
          "output_type": "stream",
          "name": "stderr",
          "text": [
            "Epoch Train 11/100: 100%|██████████| 793/793 [00:08<00:00, 92.19it/s] \n",
            "Epoch Valid 11/100: 100%|██████████| 100/100 [00:00<00:00, 175.21it/s]\n"
          ]
        },
        {
          "output_type": "stream",
          "name": "stdout",
          "text": [
            "Epoch [11/100], loss: 9.22614 acc: 0.91360 val_loss: 14.63544 val_acc: 0.86968\n"
          ]
        },
        {
          "output_type": "stream",
          "name": "stderr",
          "text": [
            "Epoch Train 12/100: 100%|██████████| 793/793 [00:08<00:00, 91.36it/s]\n",
            "Epoch Valid 12/100: 100%|██████████| 100/100 [00:01<00:00, 90.34it/s]\n"
          ]
        },
        {
          "output_type": "stream",
          "name": "stdout",
          "text": [
            "Epoch [12/100], loss: 8.64516 acc: 0.91941 val_loss: 14.74714 val_acc: 0.86582\n"
          ]
        },
        {
          "output_type": "stream",
          "name": "stderr",
          "text": [
            "Epoch Train 13/100: 100%|██████████| 793/793 [00:07<00:00, 100.71it/s]\n",
            "Epoch Valid 13/100: 100%|██████████| 100/100 [00:00<00:00, 158.73it/s]\n"
          ]
        },
        {
          "output_type": "stream",
          "name": "stdout",
          "text": [
            "Epoch [13/100], loss: 8.17277 acc: 0.92465 val_loss: 14.97236 val_acc: 0.87007\n"
          ]
        },
        {
          "output_type": "stream",
          "name": "stderr",
          "text": [
            "Epoch Train 14/100: 100%|██████████| 793/793 [00:08<00:00, 91.55it/s] \n",
            "Epoch Valid 14/100: 100%|██████████| 100/100 [00:00<00:00, 152.68it/s]\n"
          ]
        },
        {
          "output_type": "stream",
          "name": "stdout",
          "text": [
            "Epoch [14/100], loss: 7.74865 acc: 0.92880 val_loss: 15.06662 val_acc: 0.87740\n"
          ]
        },
        {
          "output_type": "stream",
          "name": "stderr",
          "text": [
            "Epoch Train 15/100: 100%|██████████| 793/793 [00:08<00:00, 92.31it/s]\n",
            "Epoch Valid 15/100: 100%|██████████| 100/100 [00:00<00:00, 100.78it/s]\n"
          ]
        },
        {
          "output_type": "stream",
          "name": "stdout",
          "text": [
            "Epoch [15/100], loss: 7.32640 acc: 0.93389 val_loss: 15.38245 val_acc: 0.87323\n"
          ]
        },
        {
          "output_type": "stream",
          "name": "stderr",
          "text": [
            "Epoch Train 16/100: 100%|██████████| 793/793 [00:08<00:00, 94.68it/s]\n",
            "Epoch Valid 16/100: 100%|██████████| 100/100 [00:00<00:00, 141.33it/s]\n"
          ]
        },
        {
          "output_type": "stream",
          "name": "stdout",
          "text": [
            "Epoch [16/100], loss: 6.94249 acc: 0.93676 val_loss: 16.16341 val_acc: 0.87236\n"
          ]
        },
        {
          "output_type": "stream",
          "name": "stderr",
          "text": [
            "Epoch Train 17/100: 100%|██████████| 793/793 [00:09<00:00, 87.80it/s] \n",
            "Epoch Valid 17/100: 100%|██████████| 100/100 [00:00<00:00, 156.58it/s]\n"
          ]
        },
        {
          "output_type": "stream",
          "name": "stdout",
          "text": [
            "Epoch [17/100], loss: 6.65695 acc: 0.93963 val_loss: 16.25297 val_acc: 0.87283\n"
          ]
        },
        {
          "output_type": "stream",
          "name": "stderr",
          "text": [
            "Epoch Train 18/100: 100%|██████████| 793/793 [00:08<00:00, 97.59it/s]\n",
            "Epoch Valid 18/100: 100%|██████████| 100/100 [00:01<00:00, 99.61it/s]\n"
          ]
        },
        {
          "output_type": "stream",
          "name": "stdout",
          "text": [
            "Epoch [18/100], loss: 6.32460 acc: 0.94362 val_loss: 17.15697 val_acc: 0.86455\n"
          ]
        },
        {
          "output_type": "stream",
          "name": "stderr",
          "text": [
            "Epoch Train 19/100: 100%|██████████| 793/793 [00:09<00:00, 84.35it/s]\n",
            "Epoch Valid 19/100: 100%|██████████| 100/100 [00:00<00:00, 132.80it/s]\n"
          ]
        },
        {
          "output_type": "stream",
          "name": "stdout",
          "text": [
            "Epoch [19/100], loss: 6.07469 acc: 0.94521 val_loss: 16.25301 val_acc: 0.87662\n"
          ]
        },
        {
          "output_type": "stream",
          "name": "stderr",
          "text": [
            "Epoch Train 20/100: 100%|██████████| 793/793 [00:09<00:00, 84.95it/s]\n",
            "Epoch Valid 20/100: 100%|██████████| 100/100 [00:00<00:00, 149.97it/s]\n"
          ]
        },
        {
          "output_type": "stream",
          "name": "stdout",
          "text": [
            "Epoch [20/100], loss: 5.75693 acc: 0.94904 val_loss: 16.91516 val_acc: 0.87307\n"
          ]
        },
        {
          "output_type": "stream",
          "name": "stderr",
          "text": [
            "Epoch Train 21/100: 100%|██████████| 793/793 [00:07<00:00, 100.67it/s]\n",
            "Epoch Valid 21/100: 100%|██████████| 100/100 [00:01<00:00, 97.54it/s]\n"
          ]
        },
        {
          "output_type": "stream",
          "name": "stdout",
          "text": [
            "Epoch [21/100], loss: 5.55635 acc: 0.95091 val_loss: 17.31847 val_acc: 0.87386\n"
          ]
        },
        {
          "output_type": "stream",
          "name": "stderr",
          "text": [
            "Epoch Train 22/100: 100%|██████████| 793/793 [00:08<00:00, 90.25it/s] \n",
            "Epoch Valid 22/100: 100%|██████████| 100/100 [00:00<00:00, 159.24it/s]\n"
          ]
        },
        {
          "output_type": "stream",
          "name": "stdout",
          "text": [
            "Epoch [22/100], loss: 5.21583 acc: 0.95403 val_loss: 17.63197 val_acc: 0.87055\n"
          ]
        },
        {
          "output_type": "stream",
          "name": "stderr",
          "text": [
            "Epoch Train 23/100: 100%|██████████| 793/793 [00:09<00:00, 86.58it/s]\n",
            "Epoch Valid 23/100: 100%|██████████| 100/100 [00:00<00:00, 159.61it/s]\n"
          ]
        },
        {
          "output_type": "stream",
          "name": "stdout",
          "text": [
            "Epoch [23/100], loss: 5.04537 acc: 0.95591 val_loss: 18.36902 val_acc: 0.87457\n"
          ]
        },
        {
          "output_type": "stream",
          "name": "stderr",
          "text": [
            "Epoch Train 24/100: 100%|██████████| 793/793 [00:07<00:00, 102.29it/s]\n",
            "Epoch Valid 24/100: 100%|██████████| 100/100 [00:00<00:00, 101.69it/s]\n"
          ]
        },
        {
          "output_type": "stream",
          "name": "stdout",
          "text": [
            "Epoch [24/100], loss: 4.83333 acc: 0.95735 val_loss: 18.11873 val_acc: 0.87354\n"
          ]
        },
        {
          "output_type": "stream",
          "name": "stderr",
          "text": [
            "Epoch Train 25/100: 100%|██████████| 793/793 [00:08<00:00, 90.16it/s] \n",
            "Epoch Valid 25/100: 100%|██████████| 100/100 [00:00<00:00, 171.97it/s]\n"
          ]
        },
        {
          "output_type": "stream",
          "name": "stdout",
          "text": [
            "Epoch [25/100], loss: 4.64040 acc: 0.95889 val_loss: 20.48219 val_acc: 0.87401\n"
          ]
        },
        {
          "output_type": "stream",
          "name": "stderr",
          "text": [
            "Epoch Train 26/100: 100%|██████████| 793/793 [00:08<00:00, 94.71it/s]\n",
            "Epoch Valid 26/100: 100%|██████████| 100/100 [00:00<00:00, 131.29it/s]\n"
          ]
        },
        {
          "output_type": "stream",
          "name": "stdout",
          "text": [
            "Epoch [26/100], loss: 4.48029 acc: 0.96101 val_loss: 18.68951 val_acc: 0.87614\n"
          ]
        },
        {
          "output_type": "stream",
          "name": "stderr",
          "text": [
            "Epoch Train 27/100: 100%|██████████| 793/793 [00:07<00:00, 108.02it/s]\n",
            "Epoch Valid 27/100: 100%|██████████| 100/100 [00:00<00:00, 161.25it/s]\n"
          ]
        },
        {
          "output_type": "stream",
          "name": "stdout",
          "text": [
            "Epoch [27/100], loss: 4.24308 acc: 0.96363 val_loss: 19.73697 val_acc: 0.87165\n"
          ]
        },
        {
          "output_type": "stream",
          "name": "stderr",
          "text": [
            "Epoch Train 28/100: 100%|██████████| 793/793 [00:09<00:00, 86.16it/s]\n",
            "Epoch Valid 28/100: 100%|██████████| 100/100 [00:00<00:00, 141.72it/s]\n"
          ]
        },
        {
          "output_type": "stream",
          "name": "stdout",
          "text": [
            "Epoch [28/100], loss: 4.12980 acc: 0.96436 val_loss: 19.99970 val_acc: 0.87157\n"
          ]
        },
        {
          "output_type": "stream",
          "name": "stderr",
          "text": [
            "Epoch Train 29/100: 100%|██████████| 793/793 [00:08<00:00, 96.67it/s]\n",
            "Epoch Valid 29/100: 100%|██████████| 100/100 [00:01<00:00, 86.32it/s]\n"
          ]
        },
        {
          "output_type": "stream",
          "name": "stdout",
          "text": [
            "Epoch [29/100], loss: 3.93213 acc: 0.96595 val_loss: 21.16569 val_acc: 0.87283\n"
          ]
        },
        {
          "output_type": "stream",
          "name": "stderr",
          "text": [
            "Epoch Train 30/100: 100%|██████████| 793/793 [00:07<00:00, 102.19it/s]\n",
            "Epoch Valid 30/100: 100%|██████████| 100/100 [00:00<00:00, 168.25it/s]\n"
          ]
        },
        {
          "output_type": "stream",
          "name": "stdout",
          "text": [
            "Epoch [30/100], loss: 3.74839 acc: 0.96796 val_loss: 21.46396 val_acc: 0.87370\n"
          ]
        },
        {
          "output_type": "stream",
          "name": "stderr",
          "text": [
            "Epoch Train 31/100: 100%|██████████| 793/793 [00:08<00:00, 89.26it/s] \n",
            "Epoch Valid 31/100: 100%|██████████| 100/100 [00:00<00:00, 167.40it/s]\n"
          ]
        },
        {
          "output_type": "stream",
          "name": "stdout",
          "text": [
            "Epoch [31/100], loss: 3.64026 acc: 0.96855 val_loss: 22.02000 val_acc: 0.87677\n"
          ]
        },
        {
          "output_type": "stream",
          "name": "stderr",
          "text": [
            "Epoch Train 32/100: 100%|██████████| 793/793 [00:07<00:00, 103.50it/s]\n",
            "Epoch Valid 32/100: 100%|██████████| 100/100 [00:00<00:00, 136.80it/s]\n"
          ]
        },
        {
          "output_type": "stream",
          "name": "stdout",
          "text": [
            "Epoch [32/100], loss: 3.62133 acc: 0.96872 val_loss: 21.19200 val_acc: 0.87386\n"
          ]
        },
        {
          "output_type": "stream",
          "name": "stderr",
          "text": [
            "Epoch Train 33/100:  26%|██▌       | 204/793 [00:02<00:07, 82.28it/s]"
          ]
        }
      ]
    },
    {
      "cell_type": "code",
      "source": [],
      "metadata": {
        "id": "Rdg3e5s9ehms"
      },
      "execution_count": null,
      "outputs": []
    }
  ]
}
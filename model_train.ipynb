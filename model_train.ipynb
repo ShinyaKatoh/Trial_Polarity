{
  "nbformat": 4,
  "nbformat_minor": 0,
  "metadata": {
    "colab": {
      "provenance": [],
      "authorship_tag": "ABX9TyMNQ4ami3RxBlm1/jmgDWzt",
      "include_colab_link": true
    },
    "kernelspec": {
      "name": "python3",
      "display_name": "Python 3"
    },
    "language_info": {
      "name": "python"
    }
  },
  "cells": [
    {
      "cell_type": "markdown",
      "metadata": {
        "id": "view-in-github",
        "colab_type": "text"
      },
      "source": [
        "<a href=\"https://colab.research.google.com/github/ShinyaKatoh/Trial_Polarity/blob/main/model_train.ipynb\" target=\"_parent\"><img src=\"https://colab.research.google.com/assets/colab-badge.svg\" alt=\"Open In Colab\"/></a>"
      ]
    },
    {
      "cell_type": "code",
      "execution_count": null,
      "metadata": {
        "id": "nTNoMQHedRZi"
      },
      "outputs": [],
      "source": [
        "!git clone https://github.com/ShinyaKatoh/Trial_Polarity\n",
        "!pip install einops\n",
        "!pip install torchinfo"
      ]
    },
    {
      "cell_type": "code",
      "source": [
        "# Google driveにマウント\n",
        "from google.colab import drive\n",
        "drive.mount('/content/drive')"
      ],
      "metadata": {
        "id": "i1DgXObvdf4O"
      },
      "execution_count": null,
      "outputs": []
    },
    {
      "cell_type": "code",
      "source": [
        "import sys\n",
        "sys.path.append('/content/Trial_Polarity')"
      ],
      "metadata": {
        "id": "Kqf63PGSd289"
      },
      "execution_count": null,
      "outputs": []
    },
    {
      "cell_type": "code",
      "source": [
        "import torch\n",
        "import torch.nn as nn\n",
        "from torchinfo import summary\n",
        "from torch.utils.data import DataLoader, Dataset\n",
        "\n",
        "import torch.nn.functional as F\n",
        "import torch.nn.init as init\n",
        "\n",
        "import os\n",
        "import glob\n",
        "import numpy as np\n",
        "from tqdm import tqdm\n",
        "\n",
        "import matplotlib.pyplot as plt\n",
        "\n",
        "import util"
      ],
      "metadata": {
        "id": "S1VyDAMkd_IR"
      },
      "execution_count": null,
      "outputs": []
    },
    {
      "cell_type": "code",
      "source": [
        "# モデル構造の定義\n",
        "#\n",
        "# model1 : Neural Network\n",
        "#\n",
        "# model2 : Convolutional Neural Network\n",
        "#\n",
        "# model3 : Convolutional Neural Network + Regularization\n",
        "#\n",
        "\n",
        "import model1\n",
        "\n",
        "model = model1.Model()\n",
        "\n",
        "# モデル保存のディレクトリの指定\n",
        "save_dir = '/content/drive/MyDrive/model1'\n",
        "\n",
        "if not os.path.exists(save_dir):\n",
        "    os.makedirs(save_dir)"
      ],
      "metadata": {
        "id": "QzJ_7N5FeHmM"
      },
      "execution_count": null,
      "outputs": []
    },
    {
      "cell_type": "code",
      "source": [
        "#-------------------------------------------------------------------------------------------------------------------------------\n",
        "# パラメータ設定\n",
        "#-------------------------------------------------------------------------------------------------------------------------------\n",
        "\n",
        "# バッチサイズ\n",
        "batch_size = 128\n",
        "\n",
        "#エポック数\n",
        "num_epochs = 100\n",
        "\n",
        "#-------------------------------------------------------------------------------------------------------------------------------\n",
        "# デバイスの割り当て\n",
        "#-------------------------------------------------------------------------------------------------------------------------------\n",
        "\n",
        "device = torch.device((\"cuda\" if torch.cuda.is_available() else \"cpu\"))\n",
        "print(device)\n",
        "\n",
        "#-------------------------------------------------------------------------------------------------------------------------------\n",
        "# データの読み込み\n",
        "#-------------------------------------------------------------------------------------------------------------------------------\n",
        "\n",
        "train_dataset = util.MyDataset('/content/Trial_Polarity/data/train_data.pt', '/content/Trial_Polarity/data/train_label_for_CLA.pt')\n",
        "train_loader = util.DataLoader(train_dataset, batch_size=batch_size, shuffle=True, num_workers=4, pin_memory=True)\n",
        "\n",
        "valid_dataset = util.MyDataset('/content/Trial_Polarity/data/valid_data.pt', '/content/Trial_Polarity/data/valid_label_for_CLA.pt')\n",
        "valid_loader = util.DataLoader(valid_dataset, batch_size=batch_size, shuffle=True, num_workers=4, pin_memory=True)\n",
        "\n",
        "#-------------------------------------------------------------------------------------------------------------------------------\n",
        "# 学習の実行\n",
        "#-------------------------------------------------------------------------------------------------------------------------------\n",
        "\n",
        "# モデル構造の転送\n",
        "model.to(device)\n",
        "\n",
        "# パラメータの初期化\n",
        "model.apply(util.init_weights)\n",
        "\n",
        "# モデル構造の表示\n",
        "print(summary(model, input_size=(1,1,128)))\n",
        "\n",
        "# 最適化アリゴリズムの設定\n",
        "optimizer = torch.optim.Adam(model.parameters())\n",
        "\n",
        "# 学習の実行\n",
        "history = np.zeros((0,3))\n",
        "history = util.fit(model, optimizer, num_epochs, train_loader, valid_loader, device, history, save_dir)\n",
        "\n",
        "# 学習過程の保存\n",
        "np.save(save_dir+'/history', history)"
      ],
      "metadata": {
        "id": "FPQIUI0SeTPD"
      },
      "execution_count": null,
      "outputs": []
    },
    {
      "cell_type": "code",
      "source": [],
      "metadata": {
        "id": "Rdg3e5s9ehms"
      },
      "execution_count": null,
      "outputs": []
    }
  ]
}
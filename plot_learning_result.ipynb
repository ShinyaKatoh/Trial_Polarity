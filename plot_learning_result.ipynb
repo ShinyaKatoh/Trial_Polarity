{
  "nbformat": 4,
  "nbformat_minor": 0,
  "metadata": {
    "colab": {
      "provenance": [],
      "authorship_tag": "ABX9TyPu/PkM7Dr034ZEzE72PRsw",
      "include_colab_link": true
    },
    "kernelspec": {
      "name": "python3",
      "display_name": "Python 3"
    },
    "language_info": {
      "name": "python"
    }
  },
  "cells": [
    {
      "cell_type": "markdown",
      "metadata": {
        "id": "view-in-github",
        "colab_type": "text"
      },
      "source": [
        "<a href=\"https://colab.research.google.com/github/ShinyaKatoh/Trial_Polarity/blob/main/plot_learning_result.ipynb\" target=\"_parent\"><img src=\"https://colab.research.google.com/assets/colab-badge.svg\" alt=\"Open In Colab\"/></a>"
      ]
    },
    {
      "cell_type": "code",
      "execution_count": null,
      "metadata": {
        "id": "mnb1lqEorV1Y"
      },
      "outputs": [],
      "source": [
        "import numpy as np\n",
        "import matplotlib.pyplot as plt"
      ]
    },
    {
      "cell_type": "code",
      "source": [
        "# Google driveにマウント\n",
        "from google.colab import drive\n",
        "drive.mount('/content/drive')"
      ],
      "metadata": {
        "id": "GKoTa8iRri13"
      },
      "execution_count": null,
      "outputs": []
    },
    {
      "cell_type": "markdown",
      "source": [
        "Model1"
      ],
      "metadata": {
        "id": "jFWAk1CMrshr"
      }
    },
    {
      "cell_type": "code",
      "source": [
        "data = np.loadtxt('/content/drive/MyDrive/model1/history.list')\n",
        "\n",
        "fig, axs = plt.subplots(1,2, figsize=(12,6))\n",
        "axs[0].plot(data[:,0], data[:,1], label='Train')\n",
        "axs[0].plot(data[:,0], data[:,2], label='Valid')\n",
        "axs[0].set_xlabel('Epoch')\n",
        "axs[0].set_ylabel('Loss')\n",
        "axs[0].legend()\n",
        "\n",
        "axs[1].plot(data[:,0], data[:,3], label='Train')\n",
        "axs[1].plot(data[:,0], data[:,4], label='Valid')\n",
        "axs[1].set_xlabel('Epoch')\n",
        "axs[1].set_ylabel('Accuracy')\n",
        "axs[1].legend()\n",
        "plt.show()\n",
        "plt.close()"
      ],
      "metadata": {
        "id": "7cFlI-Odrt3u"
      },
      "execution_count": null,
      "outputs": []
    },
    {
      "cell_type": "markdown",
      "source": [
        "Model2"
      ],
      "metadata": {
        "id": "XIbQLpvrsZEV"
      }
    },
    {
      "cell_type": "code",
      "source": [
        "data = np.loadtxt('/content/drive/MyDrive/model2/history.list')\n",
        "\n",
        "fig, axs = plt.subplots(1,2, figsize=(12,6))\n",
        "axs[0].plot(data[:,0], data[:,1], label='Train')\n",
        "axs[0].plot(data[:,0], data[:,2], label='Valid')\n",
        "axs[0].set_xlabel('Epoch')\n",
        "axs[0].set_ylabel('Loss')\n",
        "axs[0].legend()\n",
        "\n",
        "axs[1].plot(data[:,0], data[:,3], label='Train')\n",
        "axs[1].plot(data[:,0], data[:,4], label='Valid')\n",
        "axs[1].set_xlabel('Epoch')\n",
        "axs[1].set_ylabel('Accuracy')\n",
        "axs[1].legend()\n",
        "plt.show()\n",
        "plt.close()"
      ],
      "metadata": {
        "id": "w6rCjNkHr93n"
      },
      "execution_count": null,
      "outputs": []
    },
    {
      "cell_type": "markdown",
      "source": [
        "Model3"
      ],
      "metadata": {
        "id": "rnIL_jD8tEjj"
      }
    },
    {
      "cell_type": "code",
      "source": [
        "data = np.loadtxt('/content/drive/MyDrive/model3/history.list')\n",
        "\n",
        "fig, axs = plt.subplots(1,2, figsize=(12,6))\n",
        "axs[0].plot(data[:,0], data[:,1], label='Train')\n",
        "axs[0].plot(data[:,0], data[:,2], label='Valid')\n",
        "axs[0].set_xlabel('Epoch')\n",
        "axs[0].set_ylabel('Loss')\n",
        "axs[0].legend()\n",
        "\n",
        "axs[1].plot(data[:,0], data[:,3], label='Train')\n",
        "axs[1].plot(data[:,0], data[:,4], label='Valid')\n",
        "axs[1].set_xlabel('Epoch')\n",
        "axs[1].set_ylabel('Accuracy')\n",
        "axs[1].legend()\n",
        "plt.show()\n",
        "plt.close()"
      ],
      "metadata": {
        "id": "qKfLCwlvsdAB"
      },
      "execution_count": null,
      "outputs": []
    },
    {
      "cell_type": "code",
      "source": [],
      "metadata": {
        "id": "zx2WqzOHtFSc"
      },
      "execution_count": null,
      "outputs": []
    }
  ]
}
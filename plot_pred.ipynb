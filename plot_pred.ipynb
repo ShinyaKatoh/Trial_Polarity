{
  "nbformat": 4,
  "nbformat_minor": 0,
  "metadata": {
    "colab": {
      "provenance": [],
      "authorship_tag": "ABX9TyOuUou8cRIE27lG73i0gvXk",
      "include_colab_link": true
    },
    "kernelspec": {
      "name": "python3",
      "display_name": "Python 3"
    },
    "language_info": {
      "name": "python"
    }
  },
  "cells": [
    {
      "cell_type": "markdown",
      "metadata": {
        "id": "view-in-github",
        "colab_type": "text"
      },
      "source": [
        "<a href=\"https://colab.research.google.com/github/ShinyaKatoh/Trial_Polarity/blob/main/plot_pred.ipynb\" target=\"_parent\"><img src=\"https://colab.research.google.com/assets/colab-badge.svg\" alt=\"Open In Colab\"/></a>"
      ]
    },
    {
      "cell_type": "code",
      "execution_count": null,
      "metadata": {
        "id": "dymLS3Quia2B"
      },
      "outputs": [],
      "source": [
        "!git clone https://github.com/ShinyaKatoh/Trial_Polarity\n",
        "!pip install einops\n",
        "!pip install torchinfo"
      ]
    },
    {
      "cell_type": "code",
      "source": [
        "# Google driveにマウント\n",
        "from google.colab import drive\n",
        "drive.mount('/content/drive')"
      ],
      "metadata": {
        "id": "V-Naq9OJidfj"
      },
      "execution_count": null,
      "outputs": []
    },
    {
      "cell_type": "code",
      "source": [
        "import sys\n",
        "sys.path.append('/content/Trial_Polarity')"
      ],
      "metadata": {
        "id": "IiUfvBMfigCW"
      },
      "execution_count": null,
      "outputs": []
    },
    {
      "cell_type": "code",
      "source": [
        "import torch\n",
        "import torch.nn as nn\n",
        "from torchinfo import summary\n",
        "from torch.utils.data import DataLoader, Dataset\n",
        "\n",
        "import torch.nn.functional as F\n",
        "import torch.nn.init as init\n",
        "\n",
        "import os\n",
        "import glob\n",
        "import numpy as np\n",
        "from tqdm import tqdm\n",
        "\n",
        "import matplotlib.pyplot as plt\n",
        "\n",
        "import util"
      ],
      "metadata": {
        "id": "WT1Vk5vsiiiP"
      },
      "execution_count": null,
      "outputs": []
    },
    {
      "cell_type": "code",
      "source": [
        "class AIdetector:\n",
        "    def __init__(self, model_path):\n",
        "        # device指定\n",
        "        self.device = torch.device('cpu')\n",
        "        # モデルパラメータのロード\n",
        "        self.model = torch.load(model_path, map_location=self.device, weights_only=False)\n",
        "        # モデルを評価モードへの着替え\n",
        "        self.model.eval()\n",
        "\n",
        "    def pred(self, input_data):\n",
        "        with torch.no_grad():\n",
        "            inputs = input_data.float().to(self.device)\n",
        "            outputs = self.model(inputs)\n",
        "        return outputs"
      ],
      "metadata": {
        "id": "sZphVBkiilLA"
      },
      "execution_count": null,
      "outputs": []
    },
    {
      "cell_type": "code",
      "source": [
        "waves = torch.load('/content/Trial_Polarity/data/test_data.pt')\n",
        "labels_CLA = torch.load('/content/Trial_Polarity/data/test_label_for_CLA.pt')\n",
        "labels_SEG = torch.load('/content/Trial_Polarity/data/test_label_for_SEG.pt')"
      ],
      "metadata": {
        "id": "qftzdlMwirN4"
      },
      "execution_count": null,
      "outputs": []
    },
    {
      "cell_type": "code",
      "source": [
        "detector = AIdetector('/content/drive/MyDrive/model1/model_epoch_100.pth')"
      ],
      "metadata": {
        "id": "yvtqLcPWi0Hm"
      },
      "execution_count": null,
      "outputs": []
    },
    {
      "cell_type": "code",
      "source": [
        "c = 0\n",
        "for i in range(10):\n",
        "# for i in range(200):\n",
        "\n",
        "    wave = waves[i:i+1]\n",
        "    label_CLA = labels_CLA[i:i+1]\n",
        "    label_SEG = labels_SEG[i:i+1]\n",
        "\n",
        "\n",
        "    output = detector.pred(wave)\n",
        "    # print(output)\n",
        "\n",
        "    if torch.max(output,1)[1] == 0:\n",
        "        p_pola = 'U'\n",
        "    elif torch.max(output,1)[1] == 1:\n",
        "        p_pola = 'D'\n",
        "    elif torch.max(output,1)[1] == 2:\n",
        "        p_pola = 'N'\n",
        "\n",
        "    if torch.max(label_CLA,1)[1] == 0:\n",
        "        h_pola = 'U'\n",
        "    elif torch.max(label_CLA,1)[1] == 1:\n",
        "        h_pola = 'D'\n",
        "    elif torch.max(label_CLA,1)[1] == 2:\n",
        "        h_pola = 'N'\n",
        "\n",
        "    if p_pola == h_pola:\n",
        "\n",
        "        c += 1\n",
        "\n",
        "        fig = plt.figure(figsize=(10,4))\n",
        "        # plt.subplot(2,1,1)\n",
        "        plt.plot(wave[0][0,:].numpy(), c='black')\n",
        "        plt.title('HUMAN : ' + h_pola + '   -    PRED : ' + p_pola+'   PROB : '+ str( round(torch.max(output,1)[0].item()*100,2) ) + ' %')\n",
        "\n",
        "        if h_pola == 'U' or h_pola == 'D':\n",
        "            pidx = torch.max(label_SEG[0,:],1)[1]\n",
        "            print(pidx)\n",
        "            plt.axvline(x=pidx[0], c='red')\n",
        "\n",
        "        # plt.subplot(2,1,2)\n",
        "        # plt.plot(label_SEG[0][0,:].numpy())\n",
        "\n",
        "        plt.show()\n",
        "        plt.close()\n",
        "\n",
        "        if c == 30:\n",
        "          break\n",
        "\n",
        "print(c/waves.shape[0])"
      ],
      "metadata": {
        "id": "duxjEX9qj2Ay"
      },
      "execution_count": null,
      "outputs": []
    },
    {
      "cell_type": "code",
      "source": [],
      "metadata": {
        "id": "0YOoRN9-j6dB"
      },
      "execution_count": null,
      "outputs": []
    }
  ]
}